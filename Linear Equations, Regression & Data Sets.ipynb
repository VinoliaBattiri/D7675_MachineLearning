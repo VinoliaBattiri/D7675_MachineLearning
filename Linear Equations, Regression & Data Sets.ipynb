{
  "nbformat": 4,
  "nbformat_minor": 0,
  "metadata": {
    "colab": {
      "provenance": []
    },
    "kernelspec": {
      "display_name": "Python 3",
      "language": "python",
      "name": "python3"
    },
    "language_info": {
      "codemirror_mode": {
        "name": "ipython",
        "version": 3
      },
      "file_extension": ".py",
      "mimetype": "text/x-python",
      "name": "python",
      "nbconvert_exporter": "python",
      "pygments_lexer": "ipython3",
      "version": "3.8.5"
    }
  },
  "cells": [
    {
      "cell_type": "markdown",
      "metadata": {
        "id": "rKkAg6z5MqMZ"
      },
      "source": [
        "# New Jersey Institute of Technology\n",
        "# DS 675: Machine Learning, Spring 2023\n",
        "\n",
        "# Assignment 1\n",
        "*   Date: 1/24/2023\n",
        "*   **Due: 2/7/2023, 11:59pm EST**\n",
        "*   Total possible points: 20. \n",
        "\n",
        "## Instructions\n",
        "*   Copy it locally or edit it as a copy in your Google-Colab (File-->Save in Drive). \n",
        "*   Delivery Method: Upload a Jupyter notebook following the suggested name convention. \n",
        "*   Note: you can access the file only with your NJIT-Google-Account.  Private accounts will not have access. \n",
        "*   Submit your solution on CANVAS. Late submissions are penalized with 10% of total points per day. \n",
        "\n",
        "## Academic Policy\n",
        "A set of ethical principles governing this course:\n",
        "*   It is okay to share information and knowledge with your \n",
        "colleagues, but\n",
        "*   **It is not okay** to share the code,\n",
        "*   **It is not okay** to post or give out your code to others (also in the future!),\n",
        "*   **It is not okay** to use code from others (also from the past) for this Assignment!\n",
        "\n",
        "**Any noticed disregard of these principles will be sanctioned** as per the Academic Integrity Policy of NJIT (http://www5.njit.edu/policies/sites/policies/files/academic-integrity-code.pdf).\n",
        "\n",
        "## Late Policy\n",
        "Late submissions are penalized with 10% of total points per day. Max late due is 2/13/2022. \n"
      ]
    },
    {
      "cell_type": "markdown",
      "metadata": {
        "id": "e8SKy70z2osa"
      },
      "source": [
        "----\n",
        "\n",
        "<i>General instructions for this and future notebooks:</i> \n",
        "1. To run a cell and move to the next cell: Hold down <strong>Shift</strong> and press <strong>Enter</strong>\n",
        "2. To run a cell and stay in the same cell: Hold down <b>Ctrl</b> and press <b>Enter</b>\n",
        "3. Use the arrow up and down to navigate or do it manually as you prefer\n",
        "4. Escape from typing a cell: Hit <b>Esc</b>\n",
        "\n",
        "---------\n"
      ]
    },
    {
      "cell_type": "markdown",
      "metadata": {
        "id": "ly4laI7pfGJO"
      },
      "source": [
        "# Assignment 1\n",
        "The first assignment walks you through some elements of Python/Numpy. It is meant mostly to familiarize you with Jypyter notebooks. It also lets you to load and explore a data set. \n",
        "Write code in the cells below each task. \n",
        "\n"
      ]
    },
    {
      "cell_type": "markdown",
      "metadata": {
        "id": "8owP8xk_yi6h"
      },
      "source": [
        "-----------------------"
      ]
    },
    {
      "cell_type": "code",
      "metadata": {
        "id": "e-oPmxrSfGLF"
      },
      "source": [
        "import numpy as np\n",
        "from numpy import array\n",
        "from numpy import matmul\n",
        "from numpy.linalg import inv\n",
        "from numpy.random import rand\n",
        "from scipy import stats\n",
        "import matplotlib.pyplot as plt\n"
      ],
      "execution_count": 6,
      "outputs": []
    },
    {
      "cell_type": "markdown",
      "metadata": {
        "id": "Vbt-t8rpEP7R"
      },
      "source": [
        "-----"
      ]
    },
    {
      "cell_type": "markdown",
      "metadata": {
        "id": "pThX3EGLErq8"
      },
      "source": [
        "# Part 1: Linear Equations and Regression"
      ]
    },
    {
      "cell_type": "markdown",
      "metadata": {
        "id": "77y-VVzxfGLH"
      },
      "source": [
        "---\n",
        "## Task 1\n",
        "\n",
        "Write code for solving a system of four linear equations with 4 unknowns. Solve the following problem: <br>\n",
        "$x_1 + 2x_2 + 3x_3 + 5x_4 = 10$<br>\n",
        "$4x_1 + 4x_2 + 5x_3 + 3x_4=4$<br>\n",
        "$3x_1 + 8x_2 + 9x_3 + x_4= 3$<br>\n",
        "$x_1 + x_2 + 3x_3 = 7$<br><br>\n",
        "\n",
        "Afterwards, check results with allclose( ) function. And print out x.\n",
        "\n",
        "<b>Expected result</b><br>x = array([-1.17857143, -3.875     ,  4.01785714,  1.375     ])\n"
      ]
    },
    {
      "cell_type": "code",
      "metadata": {
        "id": "A0wIhEbW04b7",
        "colab": {
          "base_uri": "https://localhost:8080/"
        },
        "outputId": "c81e6806-bc9e-4392-d9d3-43d94c4c4cf4"
      },
      "source": [
        "# your code goes here:\n",
        "mat_a = np.array([[1,2,3,5], [4,4,5,3], [3,8,9,1], [1,1,3,0]])\n",
        "mat_b = np.array([10,4,3,7])\n",
        "inv_mat_a = np.linalg.inv(mat_a)\n",
        "x = np.dot(inv_mat_a, mat_b)\n",
        "\n",
        "print('x = ', x)\n"
      ],
      "execution_count": 24,
      "outputs": [
        {
          "output_type": "stream",
          "name": "stdout",
          "text": [
            "x =  [-1.17857143 -3.875       4.01785714  1.375     ]\n"
          ]
        }
      ]
    },
    {
      "cell_type": "code",
      "metadata": {
        "id": "nO4O7mrRBdeu",
        "colab": {
          "base_uri": "https://localhost:8080/"
        },
        "outputId": "62376c47-c9df-4933-9913-02f8d4c1f2a1"
      },
      "source": [
        "# check results with allclose() function\n",
        "# your code goes here: \n",
        "print(np.allclose(np.dot(mat_a,x),mat_b))\n"
      ],
      "execution_count": 25,
      "outputs": [
        {
          "output_type": "stream",
          "name": "stdout",
          "text": [
            "True\n"
          ]
        }
      ]
    },
    {
      "cell_type": "markdown",
      "metadata": {
        "id": "4wnwNTsS-FNN"
      },
      "source": [
        "\n",
        "\n",
        "---\n",
        "\n",
        "\n",
        "## Task 2\n",
        "Linear regression. The code below creates a random scattering of datapoints around a line. \n",
        "1. Use the normal equations to compute a line which has the best fit to all points \n",
        "in the least-quares sense. \n",
        "2. Next, plot the fitted line and the data points. \n"
      ]
    },
    {
      "cell_type": "code",
      "metadata": {
        "colab": {
          "base_uri": "https://localhost:8080/",
          "height": 265
        },
        "id": "GTQVOI7n-QXt",
        "outputId": "cdeb5b5e-ace1-498e-eae4-b4ff85dbc42b"
      },
      "source": [
        "# generate data on a line perturbed with some noise\n",
        "noise_margin= 0.76\n",
        "\n",
        "# w[0] is random constant term (offset from origin)\n",
        "# w[1] is random linear term (slope)\n",
        "w = rand(2,1) \n",
        "x = np.linspace(-5,5,20)\n",
        "y = w[0] + w[1]*x + noise_margin * rand(len(x))\n",
        "\n",
        "# create the design matrix X: the x data, and add a column of ones for the constant term\n",
        "X = np.column_stack( [np.ones([len(x), 1]), x.reshape(-1, 1)] )\n",
        "\n",
        "# visualize the data\n",
        "plt.scatter(x, y)\n",
        "plt.show()"
      ],
      "execution_count": 9,
      "outputs": [
        {
          "output_type": "display_data",
          "data": {
            "text/plain": [
              "<Figure size 432x288 with 1 Axes>"
            ],
            "image/png": "[encoded data removed]"
          },
          "metadata": {
            "needs_background": "light"
          }
        }
      ]
    },
    {
      "cell_type": "code",
      "metadata": {
        "colab": {
          "base_uri": "https://localhost:8080/",
          "height": 265
        },
        "id": "M9LEs2JA_hH4",
        "outputId": "a0775d66-a736-44bc-8009-a89df2d39c9d"
      },
      "source": [
        "# your code goes here:\n",
        "\n",
        "XAXIS = np.matmul(X.T, X)\n",
        "X_IN = np.linalg.inv(XAXIS)\n",
        "YAXIS = np.matmul(X.T, y)\n",
        "beta = np.matmul(X_IN, YAXIS)\n",
        "\n",
        "# with the coefficents plotting the line\n",
        "plt.scatter(x,y)\n",
        "plt.plot(x, beta[0] + beta[1]*x)\n",
        "plt.show()"
      ],
      "execution_count": 22,
      "outputs": [
        {
          "output_type": "display_data",
          "data": {
            "text/plain": [
              "<Figure size 432x288 with 1 Axes>"
            ],
            "image/png": "[encoded data removed]"
          },
          "metadata": {
            "needs_background": "light"
          }
        }
      ]
    },
    {
      "cell_type": "markdown",
      "metadata": {
        "id": "6jdQmQyhS540"
      },
      "source": [
        "-----\n"
      ]
    },
    {
      "cell_type": "markdown",
      "metadata": {
        "id": "dwkiT0HxE6cx"
      },
      "source": [
        "# Part 2: Exploring a Data Set\n"
      ]
    },
    {
      "cell_type": "markdown",
      "metadata": {
        "id": "pLPCrSbESmEE"
      },
      "source": [
        "## Loading the data set"
      ]
    },
    {
      "cell_type": "code",
      "metadata": {
        "id": "yJ9yDB9ufGLL",
        "colab": {
          "base_uri": "https://localhost:8080/"
        },
        "outputId": "1fb2971d-f5c0-4a62-e391-ebcf2caf9da5"
      },
      "source": [
        "from sklearn.datasets import load_boston\n",
        "ds = load_boston()\n",
        "samples, label, feature_names = ds.data, ds.target, ds.feature_names\n",
        "print(samples.shape)\n",
        "print(feature_names)"
      ],
      "execution_count": 11,
      "outputs": [
        {
          "output_type": "stream",
          "name": "stdout",
          "text": [
            "(506, 13)\n",
            "['CRIM' 'ZN' 'INDUS' 'CHAS' 'NOX' 'RM' 'AGE' 'DIS' 'RAD' 'TAX' 'PTRATIO'\n",
            " 'B' 'LSTAT']\n"
          ]
        },
        {
          "output_type": "stream",
          "name": "stderr",
          "text": [
            "/usr/local/lib/python3.8/dist-packages/sklearn/utils/deprecation.py:87: FutureWarning: Function load_boston is deprecated; `load_boston` is deprecated in 1.0 and will be removed in 1.2.\n",
            "\n",
            "    The Boston housing prices dataset has an ethical problem. You can refer to\n",
            "    the documentation of this function for further details.\n",
            "\n",
            "    The scikit-learn maintainers therefore strongly discourage the use of this\n",
            "    dataset unless the purpose of the code is to study and educate about\n",
            "    ethical issues in data science and machine learning.\n",
            "\n",
            "    In this special case, you can fetch the dataset from the original\n",
            "    source::\n",
            "\n",
            "        import pandas as pd\n",
            "        import numpy as np\n",
            "\n",
            "\n",
            "        data_url = \"http://lib.stat.cmu.edu/datasets/boston\"\n",
            "        raw_df = pd.read_csv(data_url, sep=\"\\s+\", skiprows=22, header=None)\n",
            "        data = np.hstack([raw_df.values[::2, :], raw_df.values[1::2, :2]])\n",
            "        target = raw_df.values[1::2, 2]\n",
            "\n",
            "    Alternative datasets include the California housing dataset (i.e.\n",
            "    :func:`~sklearn.datasets.fetch_california_housing`) and the Ames housing\n",
            "    dataset. You can load the datasets as follows::\n",
            "\n",
            "        from sklearn.datasets import fetch_california_housing\n",
            "        housing = fetch_california_housing()\n",
            "\n",
            "    for the California housing dataset and::\n",
            "\n",
            "        from sklearn.datasets import fetch_openml\n",
            "        housing = fetch_openml(name=\"house_prices\", as_frame=True)\n",
            "\n",
            "    for the Ames housing dataset.\n",
            "    \n",
            "  warnings.warn(msg, category=FutureWarning)\n"
          ]
        }
      ]
    },
    {
      "cell_type": "code",
      "metadata": {
        "id": "635Xsy-CfGLO",
        "colab": {
          "base_uri": "https://localhost:8080/"
        },
        "outputId": "0d5c17ab-0ea8-44c9-ccc8-733b3501a736"
      },
      "source": [
        "# Data description\n",
        "print(ds.DESCR)"
      ],
      "execution_count": 12,
      "outputs": [
        {
          "output_type": "stream",
          "name": "stdout",
          "text": [
            ".. _boston_dataset:\n",
            "\n",
            "Boston house prices dataset\n",
            "---------------------------\n",
            "\n",
            "**Data Set Characteristics:**  \n",
            "\n",
            "    :Number of Instances: 506 \n",
            "\n",
            "    :Number of Attributes: 13 numeric/categorical predictive. Median Value (attribute 14) is usually the target.\n",
            "\n",
            "    :Attribute Information (in order):\n",
            "        - CRIM     per capita crime rate by town\n",
            "        - ZN       proportion of residential land zoned for lots over 25,000 sq.ft.\n",
            "        - INDUS    proportion of non-retail business acres per town\n",
            "        - CHAS     Charles River dummy variable (= 1 if tract bounds river; 0 otherwise)\n",
            "        - NOX      nitric oxides concentration (parts per 10 million)\n",
            "        - RM       average number of rooms per dwelling\n",
            "        - AGE      proportion of owner-occupied units built prior to 1940\n",
            "        - DIS      weighted distances to five Boston employment centres\n",
            "        - RAD      index of accessibility to radial highways\n",
            "        - TAX      full-value property-tax rate per $10,000\n",
            "        - PTRATIO  pupil-teacher ratio by town\n",
            "        - B        1000(Bk - 0.63)^2 where Bk is the proportion of black people by town\n",
            "        - LSTAT    % lower status of the population\n",
            "        - MEDV     Median value of owner-occupied homes in $1000's\n",
            "\n",
            "    :Missing Attribute Values: None\n",
            "\n",
            "    :Creator: Harrison, D. and Rubinfeld, D.L.\n",
            "\n",
            "This is a copy of UCI ML housing dataset.\n",
            "https://archive.ics.uci.edu/ml/machine-learning-databases/housing/\n",
            "\n",
            "\n",
            "This dataset was taken from the StatLib library which is maintained at Carnegie Mellon University.\n",
            "\n",
            "The Boston house-price data of Harrison, D. and Rubinfeld, D.L. 'Hedonic\n",
            "prices and the demand for clean air', J. Environ. Economics & Management,\n",
            "vol.5, 81-102, 1978.   Used in Belsley, Kuh & Welsch, 'Regression diagnostics\n",
            "...', Wiley, 1980.   N.B. Various transformations are used in the table on\n",
            "pages 244-261 of the latter.\n",
            "\n",
            "The Boston house-price data has been used in many machine learning papers that address regression\n",
            "problems.   \n",
            "     \n",
            ".. topic:: References\n",
            "\n",
            "   - Belsley, Kuh & Welsch, 'Regression diagnostics: Identifying Influential Data and Sources of Collinearity', Wiley, 1980. 244-261.\n",
            "   - Quinlan,R. (1993). Combining Instance-Based and Model-Based Learning. In Proceedings on the Tenth International Conference of Machine Learning, 236-243, University of Massachusetts, Amherst. Morgan Kaufmann.\n",
            "\n"
          ]
        }
      ]
    },
    {
      "cell_type": "code",
      "metadata": {
        "id": "rR8jIWSafGLR",
        "colab": {
          "base_uri": "https://localhost:8080/"
        },
        "outputId": "a34dd27c-9455-45c1-9e79-90db23a42b98"
      },
      "source": [
        "# check to see if there is any null data\n",
        "np.isnan(np.sum(samples))"
      ],
      "execution_count": 13,
      "outputs": [
        {
          "output_type": "execute_result",
          "data": {
            "text/plain": [
              "False"
            ]
          },
          "metadata": {},
          "execution_count": 13
        }
      ]
    },
    {
      "cell_type": "code",
      "metadata": {
        "id": "QMjtimPhfGLT"
      },
      "source": [
        "# set print options to make things look nicer\n",
        "np.set_printoptions(suppress=True, linewidth=125)"
      ],
      "execution_count": 14,
      "outputs": []
    },
    {
      "cell_type": "code",
      "metadata": {
        "id": "hwXoQA_rfGLY",
        "colab": {
          "base_uri": "https://localhost:8080/"
        },
        "outputId": "3fd4fdc1-f347-4a7a-b97b-ce223040fb9c"
      },
      "source": [
        "# find median, variance of the data and put it out in nice looking format\n",
        "median = np.round(np.median(samples, axis=0), decimals=1)\n",
        "variance = np.round(np.var(samples, axis=0), decimals=1)\n",
        "basic_stats = np.vstack((median, variance))\n",
        "basic_stats_label = ['  median','variance']\n",
        "print('\\t\\tCRIM\\tZN\\tINDUS\\tCHAS\\tNOX\\tRM\\tAGE\\tDIS\\tRAD\\tTAX\\tPTRATIO\\tB\\tLSTAT')\n",
        "for basic_stats_label, row in zip(basic_stats_label, basic_stats):\n",
        "    print('{} [\\t{}]'.format(basic_stats_label,\"\".join('%s\\t'%i for i in row)))"
      ],
      "execution_count": 15,
      "outputs": [
        {
          "output_type": "stream",
          "name": "stdout",
          "text": [
            "\t\tCRIM\tZN\tINDUS\tCHAS\tNOX\tRM\tAGE\tDIS\tRAD\tTAX\tPTRATIO\tB\tLSTAT\n",
            "  median [\t0.3\t0.0\t9.7\t0.0\t0.5\t6.2\t77.5\t3.2\t5.0\t330.0\t19.0\t391.4\t11.4\t]\n",
            "variance [\t73.8\t542.9\t47.0\t0.1\t0.0\t0.5\t790.8\t4.4\t75.7\t28348.6\t4.7\t8318.3\t50.9\t]\n"
          ]
        }
      ]
    },
    {
      "cell_type": "markdown",
      "metadata": {
        "id": "VS5mKl2lfGLb"
      },
      "source": [
        "---\n",
        "## Task 3\n",
        "1. Use function <code>stats.describe</code> to retrieve the `max` `min` and `average` of samples then display it as in the expected output similar to the output for `median` and `variance` above). \n",
        "<br><br>\n"
      ]
    },
    {
      "cell_type": "code",
      "metadata": {
        "id": "OkNtSOsIfGLb",
        "colab": {
          "base_uri": "https://localhost:8080/"
        },
        "outputId": "735fdbfc-8561-46cf-b06d-5718146b6c34"
      },
      "source": [
        "# your code goes here:\n",
        "\n",
        "a = stats.describe(ds.data)\n",
        "\n",
        "print('feature names', feature_names)\n",
        "print(\"min          \", a.minmax[0].round(1))\n",
        "print('max          ', a.minmax[1].round(1))\n",
        "print('mean         ', a.mean.round(1))"
      ],
      "execution_count": 16,
      "outputs": [
        {
          "output_type": "stream",
          "name": "stdout",
          "text": [
            "feature names ['CRIM' 'ZN' 'INDUS' 'CHAS' 'NOX' 'RM' 'AGE' 'DIS' 'RAD' 'TAX' 'PTRATIO' 'B' 'LSTAT']\n",
            "min           [  0.    0.    0.5   0.    0.4   3.6   2.9   1.1   1.  187.   12.6   0.3   1.7]\n",
            "max           [ 89.  100.   27.7   1.    0.9   8.8 100.   12.1  24.  711.   22.  396.9  38. ]\n",
            "mean          [  3.6  11.4  11.1   0.1   0.6   6.3  68.6   3.8   9.5 408.2  18.5 356.7  12.7]\n"
          ]
        }
      ]
    },
    {
      "cell_type": "code",
      "metadata": {
        "id": "FzOg-yJwfGLe",
        "colab": {
          "base_uri": "https://localhost:8080/",
          "height": 368
        },
        "outputId": "4d670f12-1c52-46fb-b3a7-f2f2c1ae45d7"
      },
      "source": [
        "import matplotlib.pyplot as plt\n",
        "\n",
        "# let plot out to see what is the distribution of crime based on the data\n",
        "n, bins, patches = plt.hist(samples[:,0],bins='auto')\n",
        "plt.title('Distribution of crimes')\n",
        "plt.show()\n",
        "print('Bin sizes: {}'.format(n))\n"
      ],
      "execution_count": 17,
      "outputs": [
        {
          "output_type": "display_data",
          "data": {
            "text/plain": [
              "<Figure size 432x288 with 1 Axes>"
            ],
            "image/png": "[encoded data removed]"
          },
          "metadata": {
            "needs_background": "light"
          }
        },
        {
          "output_type": "stream",
          "name": "stdout",
          "text": [
            "Bin sizes: [329.  26.  14.   9.  13.  12.  11.   9.   8.   9.   9.   6.   5.   4.   3.   7.   4.   4.   1.   1.   3.   1.   1.   1.\n",
            "   1.   1.   1.   3.   1.   0.   0.   1.   0.   0.   0.   0.   0.   0.   0.   0.   0.   1.   1.   0.   0.   0.   1.   0.\n",
            "   0.   0.   1.   0.   0.   0.   0.   0.   1.   0.   0.   0.   0.   0.   0.   0.   0.   0.   0.   0.   0.   0.   0.   0.\n",
            "   0.   0.   0.   1.   0.   0.   0.   0.   0.   1.   0.   0.   0.   0.   0.   0.   0.   0.   0.   0.   0.   0.   0.   0.\n",
            "   0.   0.   1.]\n"
          ]
        }
      ]
    },
    {
      "cell_type": "markdown",
      "metadata": {
        "id": "53VG7TETfGLg"
      },
      "source": [
        "\n",
        "\n",
        "---\n",
        "\n",
        "\n",
        "## Task 4\n",
        "\n",
        "Plot out the histogram of another feature of the dataset that you are interested in, give the plot a title and also print out the bin sizes \n",
        "\n"
      ]
    },
    {
      "cell_type": "code",
      "metadata": {
        "id": "MALZsy3AfGLg",
        "colab": {
          "base_uri": "https://localhost:8080/",
          "height": 298
        },
        "outputId": "ef1b8b53-034d-4fb7-cb3d-7e082b4be6a5"
      },
      "source": [
        "# your code goes here:\n",
        "\n",
        "n, bins, patches = plt.hist(samples[:,10],bins='auto')\n",
        "plt.title('Distribution of PTRATIO(pupil-teacher ratio by town)')\n",
        "plt.show()\n",
        "print('Bin sizes: {}'.format(n))\n",
        "\n"
      ],
      "execution_count": 18,
      "outputs": [
        {
          "output_type": "display_data",
          "data": {
            "text/plain": [
              "<Figure size 432x288 with 1 Axes>"
            ],
            "image/png": "[encoded data removed]"
          },
          "metadata": {
            "needs_background": "light"
          }
        },
        {
          "output_type": "stream",
          "name": "stdout",
          "text": [
            "Bin sizes: [ 15.   1.   1.  55.   8.  32.  13.  60.  50.  54.  16. 145.  54.   2.]\n"
          ]
        }
      ]
    },
    {
      "cell_type": "markdown",
      "metadata": {
        "id": "xCxOpL8kvD1A"
      },
      "source": [
        "---\n",
        "## Task 5"
      ]
    },
    {
      "cell_type": "code",
      "metadata": {
        "id": "yTYkJsHgfGLk",
        "colab": {
          "base_uri": "https://localhost:8080/"
        },
        "outputId": "224c08ad-ce63-47c7-df86-02c6fc4889ce"
      },
      "source": [
        "def house_with_defined_age(dataset,age):\n",
        "    '''This function will return indices of all house with proportion of owner-occupied units built prior to 1940 greater than age%'''\n",
        "    ids = []\n",
        "    for id, record in enumerate(dataset):\n",
        "        if record[6]>age:\n",
        "            ids.append(id)\n",
        "    return ids\n",
        "\n",
        "    \n",
        "# list out all records with unites built prior to 1940 greater than 50%\n",
        "samples[house_with_defined_age(samples,50)]\n"
      ],
      "execution_count": 19,
      "outputs": [
        {
          "output_type": "execute_result",
          "data": {
            "text/plain": [
              "array([[  0.00632,  18.     ,   2.31   , ...,  15.3    , 396.9    ,   4.98   ],\n",
              "       [  0.02731,   0.     ,   7.07   , ...,  17.8    , 396.9    ,   9.14   ],\n",
              "       [  0.02729,   0.     ,   7.07   , ...,  17.8    , 392.83   ,   4.03   ],\n",
              "       ...,\n",
              "       [  0.06076,   0.     ,  11.93   , ...,  21.     , 396.9    ,   5.64   ],\n",
              "       [  0.10959,   0.     ,  11.93   , ...,  21.     , 393.45   ,   6.48   ],\n",
              "       [  0.04741,   0.     ,  11.93   , ...,  21.     , 396.9    ,   7.88   ]])"
            ]
          },
          "metadata": {},
          "execution_count": 19
        }
      ]
    },
    {
      "cell_type": "markdown",
      "metadata": {
        "id": "N3zhYgVKfGLm"
      },
      "source": [
        "\n",
        "\n",
        "Write a function that: \n",
        "* takes as input a given dataset and two numbers $a$ and $b$. \n",
        "* returns the ids of houses that tax is either less than $a$ or more than $b$. \n",
        "\n",
        "Demonstrate how the function runs with two specific inputs $a$ and $b$ of your choice. \n",
        "\n",
        "\n"
      ]
    },
    {
      "cell_type": "code",
      "metadata": {
        "id": "6_0OKNXtfGLn",
        "colab": {
          "base_uri": "https://localhost:8080/"
        },
        "outputId": "cdc1c816-2208-47e4-e844-be2af31225e5"
      },
      "source": [
        "# your code goes here\n",
        "\n",
        "def get_tax_ids(dataset,a,b):\n",
        "  '''This function will return ids where tax is less than a and tax is greater than b'''\n",
        "  ids = []\n",
        "  for id, record in enumerate(dataset):\n",
        "      if record[9]< a or record[9]> b:\n",
        "        ids.append(id)\n",
        "  return ids\n",
        "\n",
        "samples[get_tax_ids(samples, 500,600)]\n",
        "\n",
        "\n"
      ],
      "execution_count": 20,
      "outputs": [
        {
          "output_type": "execute_result",
          "data": {
            "text/plain": [
              "array([[  0.00632,  18.     ,   2.31   , ...,  15.3    , 396.9    ,   4.98   ],\n",
              "       [  0.02731,   0.     ,   7.07   , ...,  17.8    , 396.9    ,   9.14   ],\n",
              "       [  0.02729,   0.     ,   7.07   , ...,  17.8    , 392.83   ,   4.03   ],\n",
              "       ...,\n",
              "       [  0.06076,   0.     ,  11.93   , ...,  21.     , 396.9    ,   5.64   ],\n",
              "       [  0.10959,   0.     ,  11.93   , ...,  21.     , 393.45   ,   6.48   ],\n",
              "       [  0.04741,   0.     ,  11.93   , ...,  21.     , 396.9    ,   7.88   ]])"
            ]
          },
          "metadata": {},
          "execution_count": 20
        }
      ]
    }
  ]
}